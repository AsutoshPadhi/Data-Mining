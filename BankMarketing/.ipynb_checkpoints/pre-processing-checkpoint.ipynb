{
 "cells": [
  {
   "cell_type": "markdown",
   "metadata": {},
   "source": [
    "This program will clean the data suitable for our classification. First we start by importing numpy and pandas(for dataframes)"
   ]
  },
  {
   "cell_type": "markdown",
   "metadata": {},
   "source": [
    "We will use the Bank Marketing dataset from UCI"
   ]
  },
  {
   "cell_type": "code",
   "execution_count": 1,
   "metadata": {
    "collapsed": true
   },
   "outputs": [],
   "source": [
    "import numpy as np\n",
    "import pandas as pd"
   ]
  },
  {
   "cell_type": "markdown",
   "metadata": {},
   "source": [
    "Now, read the csv file into a dataframe, X"
   ]
  },
  {
   "cell_type": "code",
   "execution_count": 2,
   "metadata": {},
   "outputs": [
    {
     "name": "stdout",
     "output_type": "stream",
     "text": [
      "       age            job   marital  education default  balance housing loan  \\\n",
      "0       58     management   married   tertiary      no     2143     yes   no   \n",
      "1       44     technician    single  secondary      no       29     yes   no   \n",
      "2       33   entrepreneur   married  secondary      no        2     yes  yes   \n",
      "3       47    blue-collar   married    unknown      no     1506     yes   no   \n",
      "4       33        unknown    single    unknown      no        1      no   no   \n",
      "5       35     management   married   tertiary      no      231     yes   no   \n",
      "6       28     management    single   tertiary      no      447     yes  yes   \n",
      "7       42   entrepreneur  divorced   tertiary     yes        2     yes   no   \n",
      "8       58        retired   married    primary      no      121     yes   no   \n",
      "9       43     technician    single  secondary      no      593     yes   no   \n",
      "10      41         admin.  divorced  secondary      no      270     yes   no   \n",
      "11      29         admin.    single  secondary      no      390     yes   no   \n",
      "12      53     technician   married  secondary      no        6     yes   no   \n",
      "13      58     technician   married    unknown      no       71     yes   no   \n",
      "14      57       services   married  secondary      no      162     yes   no   \n",
      "15      51        retired   married    primary      no      229     yes   no   \n",
      "16      45         admin.    single    unknown      no       13     yes   no   \n",
      "17      57    blue-collar   married    primary      no       52     yes   no   \n",
      "18      60        retired   married    primary      no       60     yes   no   \n",
      "19      33       services   married  secondary      no        0     yes   no   \n",
      "20      28    blue-collar   married  secondary      no      723     yes  yes   \n",
      "21      56     management   married   tertiary      no      779     yes   no   \n",
      "22      32    blue-collar    single    primary      no       23     yes  yes   \n",
      "23      25       services   married  secondary      no       50     yes   no   \n",
      "24      40        retired   married    primary      no        0     yes  yes   \n",
      "25      44         admin.   married  secondary      no     -372     yes   no   \n",
      "26      39     management    single   tertiary      no      255     yes   no   \n",
      "27      52   entrepreneur   married  secondary      no      113     yes  yes   \n",
      "28      46     management    single  secondary      no     -246     yes   no   \n",
      "29      36     technician    single  secondary      no      265     yes  yes   \n",
      "...    ...            ...       ...        ...     ...      ...     ...  ...   \n",
      "45181   46    blue-collar   married  secondary      no     6879      no   no   \n",
      "45182   34     technician   married  secondary      no      133      no   no   \n",
      "45183   70        retired   married    primary      no      324      no   no   \n",
      "45184   63        retired   married  secondary      no     1495      no   no   \n",
      "45185   60       services   married   tertiary      no     4256     yes   no   \n",
      "45186   59        unknown   married    unknown      no     1500      no   no   \n",
      "45187   32       services    single  secondary      no     1168     yes   no   \n",
      "45188   29     management    single  secondary      no      703     yes   no   \n",
      "45189   25       services    single  secondary      no      199      no   no   \n",
      "45190   32    blue-collar   married  secondary      no      136      no   no   \n",
      "45191   75        retired  divorced   tertiary      no     3810     yes   no   \n",
      "45192   29     management    single   tertiary      no      765      no   no   \n",
      "45193   28  self-employed    single   tertiary      no      159      no   no   \n",
      "45194   59     management   married   tertiary      no      138     yes  yes   \n",
      "45195   68        retired   married  secondary      no     1146      no   no   \n",
      "45196   25        student    single  secondary      no      358      no   no   \n",
      "45197   36     management    single  secondary      no     1511     yes   no   \n",
      "45198   37     management   married   tertiary      no     1428      no   no   \n",
      "45199   34    blue-collar    single  secondary      no     1475     yes   no   \n",
      "45200   38     technician   married  secondary      no      557     yes   no   \n",
      "45201   53     management   married   tertiary      no      583      no   no   \n",
      "45202   34         admin.    single  secondary      no      557      no   no   \n",
      "45203   23        student    single   tertiary      no      113      no   no   \n",
      "45204   73        retired   married  secondary      no     2850      no   no   \n",
      "45205   25     technician    single  secondary      no      505      no  yes   \n",
      "45206   51     technician   married   tertiary      no      825      no   no   \n",
      "45207   71        retired  divorced    primary      no     1729      no   no   \n",
      "45208   72        retired   married  secondary      no     5715      no   no   \n",
      "45209   57    blue-collar   married  secondary      no      668      no   no   \n",
      "45210   37   entrepreneur   married  secondary      no     2971      no   no   \n",
      "\n",
      "         contact  day month  duration  campaign  pdays  previous poutcome    y  \n",
      "0        unknown    5   may       261         1     -1         0  unknown   no  \n",
      "1        unknown    5   may       151         1     -1         0  unknown   no  \n",
      "2        unknown    5   may        76         1     -1         0  unknown   no  \n",
      "3        unknown    5   may        92         1     -1         0  unknown   no  \n",
      "4        unknown    5   may       198         1     -1         0  unknown   no  \n",
      "5        unknown    5   may       139         1     -1         0  unknown   no  \n",
      "6        unknown    5   may       217         1     -1         0  unknown   no  \n",
      "7        unknown    5   may       380         1     -1         0  unknown   no  \n",
      "8        unknown    5   may        50         1     -1         0  unknown   no  \n",
      "9        unknown    5   may        55         1     -1         0  unknown   no  \n",
      "10       unknown    5   may       222         1     -1         0  unknown   no  \n",
      "11       unknown    5   may       137         1     -1         0  unknown   no  \n",
      "12       unknown    5   may       517         1     -1         0  unknown   no  \n",
      "13       unknown    5   may        71         1     -1         0  unknown   no  \n",
      "14       unknown    5   may       174         1     -1         0  unknown   no  \n",
      "15       unknown    5   may       353         1     -1         0  unknown   no  \n",
      "16       unknown    5   may        98         1     -1         0  unknown   no  \n",
      "17       unknown    5   may        38         1     -1         0  unknown   no  \n",
      "18       unknown    5   may       219         1     -1         0  unknown   no  \n",
      "19       unknown    5   may        54         1     -1         0  unknown   no  \n",
      "20       unknown    5   may       262         1     -1         0  unknown   no  \n",
      "21       unknown    5   may       164         1     -1         0  unknown   no  \n",
      "22       unknown    5   may       160         1     -1         0  unknown   no  \n",
      "23       unknown    5   may       342         1     -1         0  unknown   no  \n",
      "24       unknown    5   may       181         1     -1         0  unknown   no  \n",
      "25       unknown    5   may       172         1     -1         0  unknown   no  \n",
      "26       unknown    5   may       296         1     -1         0  unknown   no  \n",
      "27       unknown    5   may       127         1     -1         0  unknown   no  \n",
      "28       unknown    5   may       255         2     -1         0  unknown   no  \n",
      "29       unknown    5   may       348         1     -1         0  unknown   no  \n",
      "...          ...  ...   ...       ...       ...    ...       ...      ...  ...  \n",
      "45181   cellular   15   nov        74         2    118         3  failure   no  \n",
      "45182   cellular   15   nov       401         2    187         5  success  yes  \n",
      "45183   cellular   15   nov        78         1     96         7  success   no  \n",
      "45184   cellular   16   nov       138         1     22         5  success   no  \n",
      "45185   cellular   16   nov       200         1     92         4  success  yes  \n",
      "45186   cellular   16   nov       280         1    104         2  failure   no  \n",
      "45187   cellular   16   nov       411         1     -1         0  unknown  yes  \n",
      "45188   cellular   16   nov       236         1    550         2  success  yes  \n",
      "45189   cellular   16   nov       173         1     92         5  failure   no  \n",
      "45190   cellular   16   nov       206         1    188         3  success  yes  \n",
      "45191   cellular   16   nov       262         1    183         1  failure  yes  \n",
      "45192   cellular   16   nov       238         1     -1         0  unknown  yes  \n",
      "45193   cellular   16   nov       449         2     33         4  success  yes  \n",
      "45194   cellular   16   nov       162         2    187         5  failure   no  \n",
      "45195   cellular   16   nov       212         1    187         6  success  yes  \n",
      "45196   cellular   16   nov       330         1     -1         0  unknown  yes  \n",
      "45197   cellular   16   nov       270         1     -1         0  unknown  yes  \n",
      "45198   cellular   16   nov       333         2     -1         0  unknown   no  \n",
      "45199   cellular   16   nov      1166         3    530        12    other   no  \n",
      "45200   cellular   16   nov      1556         4     -1         0  unknown  yes  \n",
      "45201   cellular   17   nov       226         1    184         4  success  yes  \n",
      "45202   cellular   17   nov       224         1     -1         0  unknown  yes  \n",
      "45203   cellular   17   nov       266         1     -1         0  unknown  yes  \n",
      "45204   cellular   17   nov       300         1     40         8  failure  yes  \n",
      "45205   cellular   17   nov       386         2     -1         0  unknown  yes  \n",
      "45206   cellular   17   nov       977         3     -1         0  unknown  yes  \n",
      "45207   cellular   17   nov       456         2     -1         0  unknown  yes  \n",
      "45208   cellular   17   nov      1127         5    184         3  success  yes  \n",
      "45209  telephone   17   nov       508         4     -1         0  unknown   no  \n",
      "45210   cellular   17   nov       361         2    188        11    other   no  \n",
      "\n",
      "[45211 rows x 17 columns]\n"
     ]
    }
   ],
   "source": [
    "X = pd.read_csv(\"bank/bank-full.csv\", delimiter=';')\n",
    "print(X)"
   ]
  },
  {
   "cell_type": "markdown",
   "metadata": {},
   "source": [
    "Not all data in this dataframe is useful to us. We therefore need to clean it to convert it into categorical data."
   ]
  },
  {
   "cell_type": "markdown",
   "metadata": {},
   "source": [
    "First, we replace all \"unknown\" variables with Nan so that it is easy to operate on them"
   ]
  },
  {
   "cell_type": "code",
   "execution_count": 3,
   "metadata": {
    "collapsed": true
   },
   "outputs": [],
   "source": [
    "X = X.replace(\"unknown\",np.nan)"
   ]
  },
  {
   "cell_type": "markdown",
   "metadata": {},
   "source": [
    "We observe that the balance attribute has many missing values which needs to be filled. There are 2 ways to do this - Mean and Median. Mean is generally not used to fill up missing values at it can be affected by outliers.  We therefore fill it by the median of all balance values."
   ]
  },
  {
   "cell_type": "code",
   "execution_count": 4,
   "metadata": {},
   "outputs": [
    {
     "name": "stdout",
     "output_type": "stream",
     "text": [
      "Median balance = 448.0\n"
     ]
    }
   ],
   "source": [
    "print(\"Median balance = \"+str(X[\"balance\"].median()))\n",
    "X[\"balance\"].fillna(X.balance.median(), inplace=True)"
   ]
  }
 ],
 "metadata": {
  "kernelspec": {
   "display_name": "Python 3",
   "language": "python",
   "name": "python3"
  },
  "language_info": {
   "codemirror_mode": {
    "name": "ipython",
    "version": 3
   },
   "file_extension": ".py",
   "mimetype": "text/x-python",
   "name": "python",
   "nbconvert_exporter": "python",
   "pygments_lexer": "ipython3",
   "version": "3.6.3"
  }
 },
 "nbformat": 4,
 "nbformat_minor": 2
}
